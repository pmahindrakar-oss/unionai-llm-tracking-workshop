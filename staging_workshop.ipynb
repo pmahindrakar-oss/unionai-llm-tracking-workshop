{
 "cells": [
  {
   "cell_type": "markdown",
   "metadata": {},
   "source": [
    "# Union.ai Serverless Workshop\n",
    "\n",
    "Welcome to the Union.ai Serverless Workshop! In this workshop, we will cover:\n",
    "\n",
    "1. Setup workspace and connect to Union.ai Serverless\n",
    "2. Launch a simple ML workflow & get familiar with the Python SDK\n",
    "3. LLM tracking workflow using HuggingFace and Weights & Bias.\n",
    "4. Explore models using Union hosted VSCode\n",
    "\n",
    "## Setup Workspace\n",
    "\n",
    "1. If you are not signed into Google, sign in by clicking the \"Sign in\" on the upper right of this page.\n",
    "2. If you have not already, please sign up for Union Serverless at: https://signup.union.ai/\n",
    "3. Navigate to https://serverless-1.us-east-2.s.union.ai/"
   ]
  },
  {
   "cell_type": "code",
   "execution_count": null,
   "metadata": {},
   "outputs": [],
   "source": [
    "try:\n",
    "    import google.colab\n",
    "    IN_COLAB = True\n",
    "except ImportError:\n",
    "    IN_COLAB = False\n",
    "\n",
    "if IN_COLAB:\n",
    "    !git clone --depth 1 https://github.com/thomasjpfan/unionai-llm-tracking-workshop.git\n",
    "    %cd unionai-llm-tracking-workshop\n",
    "    %pip install -r dev/requirements.txt"
   ]
  },
  {
   "cell_type": "markdown",
   "metadata": {},
   "source": [
    "## Select the env by exporting the serverless host\n"
   ]
  },
  {
   "cell_type": "code",
   "execution_count": null,
   "metadata": {},
   "outputs": [],
   "source": [
    "!export "
   ]
  },
  {
   "cell_type": "markdown",
   "metadata": {},
   "source": [
    "## Authenticate on Codespaces or Colab\n",
    "\n",
    "To authenticate with Severless run, and go to the link provided to authenticate your CLI."
   ]
  },
  {
   "cell_type": "code",
   "execution_count": null,
   "metadata": {},
   "outputs": [],
   "source": [
    "!unionai create login device-flow"
   ]
  },
  {
   "cell_type": "markdown",
   "metadata": {},
   "source": [
    "To make sure everything is working, run this sample workflow:"
   ]
  },
  {
   "cell_type": "code",
   "execution_count": null,
   "metadata": {},
   "outputs": [],
   "source": [
    "!unionai run --remote workflows/starter.py main"
   ]
  },
  {
   "cell_type": "markdown",
   "metadata": {},
   "source": [
    "Go to the link provided to see your execution on Union!\n",
    "\n",
    "## ML Workflow\n",
    "\n",
    "In this section, we will launch a simple ML workflow and get familiar with the Python SDK, `flytekit`. If you are on Codespaces, you can see the `workflows/ml_workflow.py` in the IDE. On Colab, please go [to this link](https://github.com/thomasjpfan/unionai-llm-tracking-workshop/blob/main/workflows/ml_workflow.py) to see the code.\n",
    "\n",
    "One benefit of `flytekit` is that you can run the workflow locally as well:"
   ]
  },
  {
   "cell_type": "code",
   "execution_count": null,
   "metadata": {},
   "outputs": [],
   "source": [
    "!unionai run workflows/ml_workflow.py main"
   ]
  },
  {
   "cell_type": "markdown",
   "metadata": {},
   "source": [
    "And to run [the workflow](https://github.com/thomasjpfan/unionai-llm-tracking-workshop/blob/main/workflows/ml_workflow.py) on Union:"
   ]
  },
  {
   "cell_type": "code",
   "execution_count": null,
   "metadata": {},
   "outputs": [],
   "source": [
    "!unionai run --remote workflows/ml_workflow.py main"
   ]
  },
  {
   "cell_type": "markdown",
   "metadata": {},
   "source": [
    "In this section, we highlight the following features in the SDK and UI:\n",
    "\n",
    "- `@task`, `@workflow` in SDK\n",
    "- `ImageSpec`\n",
    "- Declarative infrastructure\n",
    "- Caching\n",
    "- `FlyteDeck`\n",
    "\n",
    "## LLM Workflow\n",
    "\n",
    "In this section, we run a LLM workflow using Hugging Face and Weights and Biases. If you are on Codespaces, you can see the `workflows/llm_tracking.py` in the IDE. On Colab, please go [to this link](https://github.com/thomasjpfan/unionai-llm-tracking-workshop/blob/main/workflows/llm_tracking.py) to see the code.\n",
    "\n",
    "First, please go to [https://wandb.ai/authorize](https://wandb.ai/authorize) to log into your Weights and Biases account and get an API key. If you are creating a new Weights and Biases account, use **Personal** as your assoication.\n",
    "\n",
    "Run the following command to create a secret on Union and paste your wandb API key:"
   ]
  },
  {
   "cell_type": "code",
   "execution_count": null,
   "metadata": {},
   "outputs": [],
   "source": [
    "!unionai create secret wandb_api_key"
   ]
  },
  {
   "cell_type": "markdown",
   "metadata": {},
   "source": [
    "To see all your secrets run:"
   ]
  },
  {
   "cell_type": "code",
   "execution_count": null,
   "metadata": {},
   "outputs": [],
   "source": [
    "!unionai get secret"
   ]
  },
  {
   "cell_type": "markdown",
   "metadata": {},
   "source": [
    "If you are running into an issue with the secrets, uncomment the following code to delete the secret and try again:"
   ]
  },
  {
   "cell_type": "code",
   "execution_count": null,
   "metadata": {},
   "outputs": [],
   "source": [
    "# !unionai delete secret wandb_api_key"
   ]
  },
  {
   "cell_type": "markdown",
   "metadata": {},
   "source": [
    "With the secret define, you can now run [the workflow](https://github.com/thomasjpfan/unionai-llm-tracking-workshop/blob/main/workflows/llm_tracking.py) on Union:"
   ]
  },
  {
   "cell_type": "code",
   "execution_count": null,
   "metadata": {},
   "outputs": [],
   "source": [
    "!unionai run --remote workflows/llm_tracking.py main \\\n",
    "    --wandb_project unionai-serverless-demo \\\n",
    "    --model distilbert-base-uncased"
   ]
  },
  {
   "cell_type": "markdown",
   "metadata": {},
   "source": [
    "Run the following to get the execution id of the workflow we just launched."
   ]
  },
  {
   "cell_type": "code",
   "execution_count": null,
   "metadata": {},
   "outputs": [],
   "source": [
    "from utils import get_recent_execution_id\n",
    "from unionai.remote import UnionRemote\n",
    "\n",
    "remote = UnionRemote()\n",
    "EXECUTION_ID = get_recent_execution_id(\"llm_tracking.main\", remote)\n",
    "\n",
    "# Make sure the execution ID matches the one above\n",
    "print(EXECUTION_ID)"
   ]
  },
  {
   "cell_type": "markdown",
   "metadata": {},
   "source": [
    "Models you can use are:\n",
    "- `bert-base-cased`\n",
    "- `distilbert-base-uncased`\n",
    "- `roberta-base`\n",
    "\n",
    "In this section, we highlight the following code and UI features:\n",
    "\n",
    "- Secrets API\n",
    "- UI to trigger workflow\n",
    "- Task level metrics for GPUs\n",
    "- Error handling\n",
    "\n",
    "## VSCode Integration\n",
    "\n",
    "In this section, we will launch a VSCode instance hosted by Union to interact with the LLM trained by the previous workflow. To get the URI for our model, copy and paste the execution id into the following cell:"
   ]
  },
  {
   "cell_type": "code",
   "execution_count": null,
   "metadata": {},
   "outputs": [],
   "source": [
    "execution = remote.fetch_execution(name=EXECUTION_ID)\n",
    "llm_uri = execution.outputs[\"o1\"].remote_source\n",
    "\n",
    "print(llm_uri)"
   ]
  },
  {
   "cell_type": "markdown",
   "metadata": {},
   "source": [
    "Launch the vscode environment by running:"
   ]
  },
  {
   "cell_type": "code",
   "execution_count": null,
   "metadata": {},
   "outputs": [],
   "source": [
    "from utils import launch_vscode\n",
    "vscode_execution_id = launch_vscode(llm_uri, remote)"
   ]
  },
  {
   "cell_type": "markdown",
   "metadata": {},
   "source": [
    "In the VSCode environment:\n",
    "1. Open the `interact_with_model.py` file and click on `Run Cell` button at the top of file.\n",
    "2. The `review.txt` file contains reivews you can use to give the model.\n",
    "\n",
    "We will highlight how to get the model in Union's VSCode enviornment and how to use Jupyter to interact query the model.\n",
    "\n",
    "To stop the VSCode environment, uncomment the following and run it:"
   ]
  },
  {
   "cell_type": "code",
   "execution_count": null,
   "metadata": {},
   "outputs": [],
   "source": [
    "# vscode_execution = remote.fetch_execution(name=vscode_execution_id)\n",
    "# if not vscode_execution.is_done:\n",
    "#     remote.terminate(vscode_execution, cause=\"Stop VSCode from Colab\")\n",
    "#     print(\"Stopped VSCode instance!\")"
   ]
  },
  {
   "cell_type": "markdown",
   "metadata": {},
   "source": [
    "Thank you for attending this workshop!"
   ]
  }
 ],
 "metadata": {
  "kernelspec": {
   "display_name": "Python 3 (ipykernel)",
   "language": "python",
   "name": "python3"
  },
  "language_info": {
   "codemirror_mode": {
    "name": "ipython",
    "version": 3
   },
   "file_extension": ".py",
   "mimetype": "text/x-python",
   "name": "python",
   "nbconvert_exporter": "python",
   "pygments_lexer": "ipython3",
   "version": "3.12.2"
  }
 },
 "nbformat": 4,
 "nbformat_minor": 4
}
